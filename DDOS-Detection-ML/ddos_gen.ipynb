{
 "cells": [
  {
   "cell_type": "code",
   "execution_count": 1,
   "id": "d80752e0",
   "metadata": {},
   "outputs": [],
   "source": [
    "# Importing Libraries\n",
    "import warnings\n",
    "warnings.filterwarnings('ignore')\n",
    "import numpy as np\n",
    "import seaborn as sns\n",
    "import matplotlib.pyplot as plt\n",
    "import pandas as pd\n"
   ]
  },
  {
   "cell_type": "code",
   "execution_count": 2,
   "id": "f31ad4f8",
   "metadata": {
    "scrolled": true
   },
   "outputs": [],
   "source": [
    "data = pd.read_csv(\"clean_4.csv\")"
   ]
  },
  {
   "cell_type": "code",
   "execution_count": 3,
   "id": "7c956793",
   "metadata": {},
   "outputs": [
    {
     "data": {
      "text/html": [
       "<div>\n",
       "<style scoped>\n",
       "    .dataframe tbody tr th:only-of-type {\n",
       "        vertical-align: middle;\n",
       "    }\n",
       "\n",
       "    .dataframe tbody tr th {\n",
       "        vertical-align: top;\n",
       "    }\n",
       "\n",
       "    .dataframe thead th {\n",
       "        text-align: right;\n",
       "    }\n",
       "</style>\n",
       "<table border=\"1\" class=\"dataframe\">\n",
       "  <thead>\n",
       "    <tr style=\"text-align: right;\">\n",
       "      <th></th>\n",
       "      <th>Unnamed: 0</th>\n",
       "      <th>Unnamed: 0.1</th>\n",
       "      <th>Unnamed: 0.1.1</th>\n",
       "      <th>Flow ID</th>\n",
       "      <th>Source IP</th>\n",
       "      <th>Source Port</th>\n",
       "      <th>Destination IP</th>\n",
       "      <th>Destination Port</th>\n",
       "      <th>Protocol</th>\n",
       "      <th>Timestamp</th>\n",
       "      <th>...</th>\n",
       "      <th>Active Std</th>\n",
       "      <th>Active Max</th>\n",
       "      <th>Active Min</th>\n",
       "      <th>Idle Mean</th>\n",
       "      <th>Idle Std</th>\n",
       "      <th>Idle Max</th>\n",
       "      <th>Idle Min</th>\n",
       "      <th>SimillarHTTP</th>\n",
       "      <th>Inbound</th>\n",
       "      <th>Label</th>\n",
       "    </tr>\n",
       "  </thead>\n",
       "  <tbody>\n",
       "    <tr>\n",
       "      <th>0</th>\n",
       "      <td>0</td>\n",
       "      <td>205005</td>\n",
       "      <td>127779</td>\n",
       "      <td>172.16.0.5-192.168.50.4-57177-19971-6</td>\n",
       "      <td>172.16.0.5</td>\n",
       "      <td>57177</td>\n",
       "      <td>192.168.50.4</td>\n",
       "      <td>19971</td>\n",
       "      <td>6</td>\n",
       "      <td>2018-11-03 10:19:10.280344</td>\n",
       "      <td>...</td>\n",
       "      <td>0.0</td>\n",
       "      <td>0.0</td>\n",
       "      <td>0.0</td>\n",
       "      <td>0.0</td>\n",
       "      <td>0.0</td>\n",
       "      <td>0.0</td>\n",
       "      <td>0.0</td>\n",
       "      <td>0</td>\n",
       "      <td>1</td>\n",
       "      <td>LDAP</td>\n",
       "    </tr>\n",
       "    <tr>\n",
       "      <th>1</th>\n",
       "      <td>1</td>\n",
       "      <td>205009</td>\n",
       "      <td>66687</td>\n",
       "      <td>172.16.0.5-192.168.50.4-31536-23-6</td>\n",
       "      <td>172.16.0.5</td>\n",
       "      <td>31536</td>\n",
       "      <td>192.168.50.4</td>\n",
       "      <td>23</td>\n",
       "      <td>6</td>\n",
       "      <td>2018-11-03 10:19:10.810546</td>\n",
       "      <td>...</td>\n",
       "      <td>0.0</td>\n",
       "      <td>0.0</td>\n",
       "      <td>0.0</td>\n",
       "      <td>0.0</td>\n",
       "      <td>0.0</td>\n",
       "      <td>0.0</td>\n",
       "      <td>0.0</td>\n",
       "      <td>0</td>\n",
       "      <td>1</td>\n",
       "      <td>LDAP</td>\n",
       "    </tr>\n",
       "    <tr>\n",
       "      <th>2</th>\n",
       "      <td>2</td>\n",
       "      <td>205012</td>\n",
       "      <td>130695</td>\n",
       "      <td>172.16.0.5-192.168.50.4-52312-20889-6</td>\n",
       "      <td>172.16.0.5</td>\n",
       "      <td>52312</td>\n",
       "      <td>192.168.50.4</td>\n",
       "      <td>20889</td>\n",
       "      <td>6</td>\n",
       "      <td>2018-11-03 10:19:16.979262</td>\n",
       "      <td>...</td>\n",
       "      <td>0.0</td>\n",
       "      <td>0.0</td>\n",
       "      <td>0.0</td>\n",
       "      <td>0.0</td>\n",
       "      <td>0.0</td>\n",
       "      <td>0.0</td>\n",
       "      <td>0.0</td>\n",
       "      <td>0</td>\n",
       "      <td>1</td>\n",
       "      <td>LDAP</td>\n",
       "    </tr>\n",
       "    <tr>\n",
       "      <th>3</th>\n",
       "      <td>3</td>\n",
       "      <td>205013</td>\n",
       "      <td>130921</td>\n",
       "      <td>172.16.0.5-192.168.50.4-44853-1274-6</td>\n",
       "      <td>172.16.0.5</td>\n",
       "      <td>44853</td>\n",
       "      <td>192.168.50.4</td>\n",
       "      <td>1274</td>\n",
       "      <td>6</td>\n",
       "      <td>2018-11-03 10:19:18.180510</td>\n",
       "      <td>...</td>\n",
       "      <td>0.0</td>\n",
       "      <td>0.0</td>\n",
       "      <td>0.0</td>\n",
       "      <td>0.0</td>\n",
       "      <td>0.0</td>\n",
       "      <td>0.0</td>\n",
       "      <td>0.0</td>\n",
       "      <td>0</td>\n",
       "      <td>1</td>\n",
       "      <td>LDAP</td>\n",
       "    </tr>\n",
       "    <tr>\n",
       "      <th>4</th>\n",
       "      <td>4</td>\n",
       "      <td>205016</td>\n",
       "      <td>24890</td>\n",
       "      <td>172.16.0.5-192.168.50.4-648-35182-17</td>\n",
       "      <td>172.16.0.5</td>\n",
       "      <td>648</td>\n",
       "      <td>192.168.50.4</td>\n",
       "      <td>35182</td>\n",
       "      <td>17</td>\n",
       "      <td>2018-11-03 10:19:25.529066</td>\n",
       "      <td>...</td>\n",
       "      <td>0.0</td>\n",
       "      <td>0.0</td>\n",
       "      <td>0.0</td>\n",
       "      <td>0.0</td>\n",
       "      <td>0.0</td>\n",
       "      <td>0.0</td>\n",
       "      <td>0.0</td>\n",
       "      <td>0</td>\n",
       "      <td>1</td>\n",
       "      <td>LDAP</td>\n",
       "    </tr>\n",
       "  </tbody>\n",
       "</table>\n",
       "<p>5 rows × 90 columns</p>\n",
       "</div>"
      ],
      "text/plain": [
       "   Unnamed: 0  Unnamed: 0.1  Unnamed: 0.1.1  \\\n",
       "0           0        205005          127779   \n",
       "1           1        205009           66687   \n",
       "2           2        205012          130695   \n",
       "3           3        205013          130921   \n",
       "4           4        205016           24890   \n",
       "\n",
       "                                 Flow ID   Source IP   Source Port  \\\n",
       "0  172.16.0.5-192.168.50.4-57177-19971-6  172.16.0.5         57177   \n",
       "1     172.16.0.5-192.168.50.4-31536-23-6  172.16.0.5         31536   \n",
       "2  172.16.0.5-192.168.50.4-52312-20889-6  172.16.0.5         52312   \n",
       "3   172.16.0.5-192.168.50.4-44853-1274-6  172.16.0.5         44853   \n",
       "4   172.16.0.5-192.168.50.4-648-35182-17  172.16.0.5           648   \n",
       "\n",
       "   Destination IP   Destination Port   Protocol                   Timestamp  \\\n",
       "0    192.168.50.4              19971          6  2018-11-03 10:19:10.280344   \n",
       "1    192.168.50.4                 23          6  2018-11-03 10:19:10.810546   \n",
       "2    192.168.50.4              20889          6  2018-11-03 10:19:16.979262   \n",
       "3    192.168.50.4               1274          6  2018-11-03 10:19:18.180510   \n",
       "4    192.168.50.4              35182         17  2018-11-03 10:19:25.529066   \n",
       "\n",
       "   ...   Active Std   Active Max   Active Min  Idle Mean   Idle Std  \\\n",
       "0  ...          0.0          0.0          0.0        0.0        0.0   \n",
       "1  ...          0.0          0.0          0.0        0.0        0.0   \n",
       "2  ...          0.0          0.0          0.0        0.0        0.0   \n",
       "3  ...          0.0          0.0          0.0        0.0        0.0   \n",
       "4  ...          0.0          0.0          0.0        0.0        0.0   \n",
       "\n",
       "    Idle Max   Idle Min  SimillarHTTP   Inbound   Label  \n",
       "0        0.0        0.0             0         1    LDAP  \n",
       "1        0.0        0.0             0         1    LDAP  \n",
       "2        0.0        0.0             0         1    LDAP  \n",
       "3        0.0        0.0             0         1    LDAP  \n",
       "4        0.0        0.0             0         1    LDAP  \n",
       "\n",
       "[5 rows x 90 columns]"
      ]
     },
     "execution_count": 3,
     "metadata": {},
     "output_type": "execute_result"
    }
   ],
   "source": [
    "data.head()"
   ]
  },
  {
   "cell_type": "markdown",
   "id": "14d4fb8a",
   "metadata": {},
   "source": [
    "# Analyse de Forme :"
   ]
  },
  {
   "cell_type": "code",
   "execution_count": 4,
   "id": "7ae5a59d",
   "metadata": {},
   "outputs": [],
   "source": [
    "df = data.copy()\n",
    "#df = data.sample(frac=0.01, random_state=42)"
   ]
  },
  {
   "cell_type": "code",
   "execution_count": 5,
   "id": "ca7c32ad",
   "metadata": {},
   "outputs": [
    {
     "data": {
      "text/plain": [
       "(1245798, 90)"
      ]
     },
     "execution_count": 5,
     "metadata": {},
     "output_type": "execute_result"
    }
   ],
   "source": [
    "df.shape\n",
    "#df.info()"
   ]
  },
  {
   "cell_type": "code",
   "execution_count": 6,
   "id": "be7bf0d2",
   "metadata": {},
   "outputs": [
    {
     "data": {
      "text/plain": [
       "float64    45\n",
       "int64      39\n",
       "object      6\n",
       "dtype: int64"
      ]
     },
     "execution_count": 6,
     "metadata": {},
     "output_type": "execute_result"
    }
   ],
   "source": [
    "df.dtypes.value_counts()"
   ]
  },
  {
   "cell_type": "code",
   "execution_count": 7,
   "id": "81670c39",
   "metadata": {},
   "outputs": [
    {
     "data": {
      "text/plain": [
       "<AxesSubplot:ylabel='None'>"
      ]
     },
     "execution_count": 7,
     "metadata": {},
     "output_type": "execute_result"
    },
    {
     "data": {
      "image/png": "[encoded data removed]",
      "text/plain": [
       "<Figure size 432x288 with 1 Axes>"
      ]
     },
     "metadata": {},
     "output_type": "display_data"
    }
   ],
   "source": [
    "df.dtypes.value_counts().plot.pie()"
   ]
  },
  {
   "cell_type": "code",
   "execution_count": 8,
   "id": "ed2c8af4",
   "metadata": {},
   "outputs": [
    {
     "data": {
      "text/plain": [
       "LDAP       200000\n",
       "NetBIOS    200000\n",
       "MSSQL      200000\n",
       "UDP        200000\n",
       "Syn        200000\n",
       "Portmap    186960\n",
       "BENIGN      56965\n",
       "UDPLag       1873\n",
       "Name:  Label, dtype: int64"
      ]
     },
     "execution_count": 8,
     "metadata": {},
     "output_type": "execute_result"
    }
   ],
   "source": [
    "df[' Label'].value_counts()"
   ]
  },
  {
   "cell_type": "code",
   "execution_count": 9,
   "id": "ee796bff",
   "metadata": {},
   "outputs": [
    {
     "data": {
      "text/plain": [
       "Text(0.5, 1.0, 'Class Distributions ')"
      ]
     },
     "execution_count": 9,
     "metadata": {},
     "output_type": "execute_result"
    },
    {
     "data": {
      "image/png": "[encoded data removed]",
      "text/plain": [
       "<Figure size 432x288 with 1 Axes>"
      ]
     },
     "metadata": {
      "needs_background": "light"
     },
     "output_type": "display_data"
    }
   ],
   "source": [
    "sns.countplot(x=' Label',data=df)\n",
    "plt.title('Class Distributions ', fontsize=16)\n"
   ]
  },
  {
   "cell_type": "markdown",
   "id": "7bbd2d27",
   "metadata": {},
   "source": [
    "# Preprocessing :"
   ]
  },
  {
   "cell_type": "code",
   "execution_count": 10,
   "id": "c1740c11",
   "metadata": {},
   "outputs": [],
   "source": [
    "# replace the NAN values with 0\n",
    "df.fillna(0)\n",
    "df.replace([np.inf, -np.inf], 0, inplace=True)\n",
    "df=df.dropna().reset_index(drop=True)\n",
    "df = df.drop(['Unnamed: 0.1.1','Unnamed: 0','Unnamed: 0.1',\n",
    "            ' Source IP',' Source Port',' Destination IP',' Destination Port',' Timestamp',\n",
    "            'Flow ID','SimillarHTTP'], axis=1)\n",
    "df.to_csv('ddos.csv', index=False)"
   ]
  }
 ],
 "metadata": {
  "kernelspec": {
   "display_name": "Python 3 (ipykernel)",
   "language": "python",
   "name": "python3"
  },
  "language_info": {
   "codemirror_mode": {
    "name": "ipython",
    "version": 3
   },
   "file_extension": ".py",
   "mimetype": "text/x-python",
   "name": "python",
   "nbconvert_exporter": "python",
   "pygments_lexer": "ipython3",
   "version": "3.9.7"
  },
  "vscode": {
   "interpreter": {
    "hash": "3b6ba760cef289ec927c356e71317d8a4f23b2103c5445b3b4bd1f2bab540de6"
   }
  }
 },
 "nbformat": 4,
 "nbformat_minor": 5
}
